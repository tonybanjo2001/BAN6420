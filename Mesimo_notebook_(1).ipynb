{
  "cells": [
    {
      "cell_type": "markdown",
      "metadata": {
        "id": "view-in-github",
        "colab_type": "text"
      },
      "source": [
        "<a href=\"https://colab.research.google.com/github/tonybanjo2001/BAN6420Module2/blob/main/Mesimo_notebook_(1).ipynb\" target=\"_parent\"><img src=\"https://colab.research.google.com/assets/colab-badge.svg\" alt=\"Open In Colab\"/></a>"
      ]
    },
    {
      "cell_type": "code",
      "source": [
        "from google.colab import drive\n",
        "drive.mount('/content/drive')"
      ],
      "metadata": {
        "id": "RSEuZzxn2hpF",
        "colab": {
          "base_uri": "https://localhost:8080/"
        },
        "outputId": "c8ddb442-debe-43aa-836f-bfb3886bb2eb"
      },
      "execution_count": 2,
      "outputs": [
        {
          "output_type": "stream",
          "name": "stdout",
          "text": [
            "Drive already mounted at /content/drive; to attempt to forcibly remount, call drive.mount(\"/content/drive\", force_remount=True).\n"
          ]
        }
      ]
    },
    {
      "cell_type": "code",
      "execution_count": 4,
      "metadata": {
        "colab": {
          "base_uri": "https://localhost:8080/"
        },
        "id": "xqzjo7wy1fHr",
        "outputId": "a67e54e9-66e8-4b40-9aef-e463bb585a5c"
      },
      "outputs": [
        {
          "output_type": "stream",
          "name": "stderr",
          "text": [
            "<ipython-input-4-eb2c0ff88211>:3: DtypeWarning: Columns (2,3,4,5) have mixed types. Specify dtype option on import or set low_memory=False.\n",
            "  salary_data = pd.read_csv(\"/content/drive/MyDrive/6430 Data Set/Total.csv\")\n"
          ]
        }
      ],
      "source": [
        "import pandas as pd\n",
        "\n",
        "salary_data = pd.read_csv(\"/content/drive/MyDrive/6430 Data Set/Total.csv\")"
      ]
    },
    {
      "cell_type": "code",
      "execution_count": 8,
      "metadata": {
        "id": "zcIvy-Tr1fHv"
      },
      "outputs": [],
      "source": [
        "def get_employee_details_by_name(name):\n",
        "    try:\n",
        "        employee_details = salary_data[salary_data['EmployeeName'].str.contains(name, case=False)]\n",
        "        if employee_details.empty == True:\n",
        "            return \"Employee not found\"\n",
        "        else:\n",
        "            return employee_details\n",
        "    except Exception as e:\n",
        "        print(e)"
      ]
    },
    {
      "cell_type": "code",
      "execution_count": 9,
      "metadata": {
        "id": "5Mc7OgBz1fHy"
      },
      "outputs": [],
      "source": [
        "def process_salary_data_using_dict(data):\n",
        "    try:\n",
        "        salary_dict = data.to_dict(orient='records')\n",
        "        return salary_dict\n",
        "    except Exception as e:\n",
        "        print(e)\n",
        "        return None\n",
        "\n",
        "salary_data_dict = process_salary_data_using_dict(salary_data)"
      ]
    },
    {
      "cell_type": "code",
      "execution_count": 10,
      "metadata": {
        "colab": {
          "base_uri": "https://localhost:8080/"
        },
        "id": "-3-ZKnFj1fHz",
        "outputId": "6a85ebb4-124e-403a-af02-d5191b7b214c"
      },
      "outputs": [
        {
          "output_type": "stream",
          "name": "stdout",
          "text": [
            "Details for employee NATHANIEL FORD exported to Employee Profile.zip\n"
          ]
        }
      ],
      "source": [
        "import zipfile\n",
        "import os\n",
        "\n",
        "def export_employee_details_to_zip(name):\n",
        "    try:\n",
        "        employee_details = get_employee_details_by_name(name)\n",
        "\n",
        "        filename_csv = name + '.csv'\n",
        "        employee_details.to_csv(filename_csv, index=False)\n",
        "\n",
        "        filename_zip = 'Employee Profile.zip'\n",
        "        with zipfile.ZipFile(filename_zip, 'w') as zipf:\n",
        "            zipf.write(filename_csv)\n",
        "\n",
        "        os.remove(filename_csv)\n",
        "\n",
        "        print(f\"Details for employee {name} exported to {filename_zip}\")\n",
        "    except Exception as e:\n",
        "        print(e)\n",
        "\n",
        "export_employee_details_to_zip('NATHANIEL FORD')\n",
        "\n"
      ]
    },
    {
      "cell_type": "markdown",
      "source": [
        "\n",
        "\n",
        "\n",
        "\n",
        "\n"
      ],
      "metadata": {
        "id": "syX1mxtp_WJP"
      }
    },
    {
      "cell_type": "markdown",
      "source": [
        "### **THIS SECTION IS TO INSTALL THE R WITHIN THE GOOGLE COLAB ENVIRONMENT**"
      ],
      "metadata": {
        "id": "SQUye4sK_ED0"
      }
    },
    {
      "cell_type": "code",
      "source": [
        "#I installed R by running the following command in a code cell\n",
        "\n",
        "!apt-get install r-base"
      ],
      "metadata": {
        "colab": {
          "base_uri": "https://localhost:8080/"
        },
        "id": "cPReJAHo-6_e",
        "outputId": "cf114dff-6a53-4d88-867e-364b73f5f70e"
      },
      "execution_count": 11,
      "outputs": [
        {
          "output_type": "stream",
          "name": "stdout",
          "text": [
            "Reading package lists... Done\n",
            "Building dependency tree... Done\n",
            "Reading state information... Done\n",
            "r-base is already the newest version (4.4.1-1.2204.0).\n",
            "0 upgraded, 0 newly installed, 0 to remove and 45 not upgraded.\n"
          ]
        }
      ]
    },
    {
      "cell_type": "code",
      "source": [
        "#I use the IRkernel to run R code in Colab. Install the IRkernel package and set it up\n",
        "!R -e \"install.packages('IRkernel'); IRkernel::installspec(user = FALSE)\""
      ],
      "metadata": {
        "colab": {
          "base_uri": "https://localhost:8080/"
        },
        "id": "tGoMDKxZ_CYQ",
        "outputId": "00a0b651-25c3-4183-baf7-418033028546"
      },
      "execution_count": 12,
      "outputs": [
        {
          "output_type": "stream",
          "name": "stdout",
          "text": [
            "\n",
            "R version 4.4.1 (2024-06-14) -- \"Race for Your Life\"\n",
            "Copyright (C) 2024 The R Foundation for Statistical Computing\n",
            "Platform: x86_64-pc-linux-gnu\n",
            "\n",
            "R is free software and comes with ABSOLUTELY NO WARRANTY.\n",
            "You are welcome to redistribute it under certain conditions.\n",
            "Type 'license()' or 'licence()' for distribution details.\n",
            "\n",
            "  Natural language support but running in an English locale\n",
            "\n",
            "R is a collaborative project with many contributors.\n",
            "Type 'contributors()' for more information and\n",
            "'citation()' on how to cite R or R packages in publications.\n",
            "\n",
            "Type 'demo()' for some demos, 'help()' for on-line help, or\n",
            "'help.start()' for an HTML browser interface to help.\n",
            "Type 'q()' to quit R.\n",
            "\n",
            "> install.packages('IRkernel'); IRkernel::installspec(user = FALSE)\n",
            "Installing package into ‘/usr/local/lib/R/site-library’\n",
            "(as ‘lib’ is unspecified)\n",
            "trying URL 'https://cran.rstudio.com/src/contrib/IRkernel_1.3.2.tar.gz'\n",
            "Content type 'application/x-gzip' length 45172 bytes (44 KB)\n",
            "==================================================\n",
            "downloaded 44 KB\n",
            "\n",
            "* installing *source* package ‘IRkernel’ ...\n",
            "** package ‘IRkernel’ successfully unpacked and MD5 sums checked\n",
            "** using staged installation\n",
            "** R\n",
            "** inst\n",
            "** byte-compile and prepare package for lazy loading\n",
            "** help\n",
            "*** installing help indices\n",
            "** building package indices\n",
            "** testing if installed package can be loaded from temporary location\n",
            "** testing if installed package can be loaded from final location\n",
            "** testing if installed package keeps a record of temporary installation path\n",
            "* DONE (IRkernel)\n",
            "\n",
            "The downloaded source packages are in\n",
            "\t‘/tmp/RtmpEQn5Mz/downloaded_packages’\n",
            "\u001b[?25h> \n",
            "> \n",
            "\u001b[?25h"
          ]
        }
      ]
    },
    {
      "cell_type": "code",
      "source": [
        "# Ensure the zip file is in the current directory\n",
        "import zipfile\n",
        "\n",
        "# Create a sample zip file for demonstration\n",
        "with zipfile.ZipFile('Employee Profile.zip', 'w') as zipf:\n",
        "    with open('NATHANIEL FORD.csv', 'w') as f:\n",
        "        f.write('Name,Position,Department\\nNathaniel Ford,Engineer,Development\\n')\n",
        "    zipf.write('NATHANIEL FORD.csv')\n",
        "\n",
        "# Remove the CSV file to mimic the initial state\n",
        "import os\n",
        "os.remove('NATHANIEL FORD.csv')\n"
      ],
      "metadata": {
        "id": "NvzbbnySMBiJ"
      },
      "execution_count": null,
      "outputs": []
    },
    {
      "cell_type": "markdown",
      "source": [
        "**I Switched to R kernel in Google Colab**"
      ],
      "metadata": {
        "id": "okmFOJBUBsWN"
      }
    },
    {
      "cell_type": "code",
      "source": [
        "# Install necessary packages\n",
        "install.packages(\"utils\")\n",
        "\n",
        "# Load the utils package\n",
        "library(utils)\n",
        "\n",
        "# Unzip the file\n",
        "unzip(\"Employee Profile.zip\", exdir = \".\")\n",
        "\n",
        "# Read and display the CSV file\n",
        "employee_data <- read.csv(\"NATHANIEL FORD.csv\")\n",
        "print(employee_data)\n"
      ],
      "metadata": {
        "colab": {
          "base_uri": "https://localhost:8080/"
        },
        "id": "4qI3t-DbBqWj",
        "outputId": "2c6c2fcf-ebda-45a7-d7c7-8cfd094eed83"
      },
      "execution_count": null,
      "outputs": [
        {
          "output_type": "stream",
          "name": "stderr",
          "text": [
            "Installing package into ‘/usr/local/lib/R/site-library’\n",
            "(as ‘lib’ is unspecified)\n",
            "\n",
            "Warning message:\n",
            "“package ‘utils’ is a base package, and should not be updated”\n"
          ]
        },
        {
          "output_type": "stream",
          "name": "stdout",
          "text": [
            "            Name Position  Department\n",
            "1 Nathaniel Ford Engineer Development\n"
          ]
        }
      ]
    }
  ],
  "metadata": {
    "kernelspec": {
      "display_name": "R",
      "name": "ir"
    },
    "language_info": {
      "name": "R"
    },
    "colab": {
      "provenance": [],
      "include_colab_link": true
    }
  },
  "nbformat": 4,
  "nbformat_minor": 0
}